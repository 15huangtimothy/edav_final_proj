{
 "cells": [
  {
   "cell_type": "code",
   "execution_count": 1,
   "metadata": {},
   "outputs": [],
   "source": [
    "import pandas as pd\n",
    "import numpy as np"
   ]
  },
  {
   "cell_type": "code",
   "execution_count": 29,
   "metadata": {},
   "outputs": [],
   "source": [
    "# Using preprocessed_interactive data\n",
    "df1 = pd.read_csv('../usage/processed_interactive.csv')\n",
    "# years: 1965 to 2018\n",
    "annual_co2_energy_consumption = df1[['year', 'co2', 'energy_consumption']].groupby('year').sum()\n",
    "annual_co2_energy_consumption['annual_emission_rate'] = annual_co2_energy_consumption['co2']/annual_co2_energy_consumption['energy_consumption']\n",
    "annual_emission_rate = annual_co2_energy_consumption.drop(['co2', 'energy_consumption'], axis=1)\n",
    "annual_emission_rate.to_csv('../emissions/annual_emission_rate.csv')"
   ]
  }
 ],
 "metadata": {
  "kernelspec": {
   "display_name": "Python 3",
   "language": "python",
   "name": "python3"
  },
  "language_info": {
   "codemirror_mode": {
    "name": "ipython",
    "version": 3
   },
   "file_extension": ".py",
   "mimetype": "text/x-python",
   "name": "python",
   "nbconvert_exporter": "python",
   "pygments_lexer": "ipython3",
   "version": "3.6.9"
  }
 },
 "nbformat": 4,
 "nbformat_minor": 2
}
