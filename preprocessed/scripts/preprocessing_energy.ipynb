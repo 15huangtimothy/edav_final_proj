{
 "cells": [
  {
   "cell_type": "markdown",
   "metadata": {},
   "source": [
    "# Energy Data PreProcessing"
   ]
  },
  {
   "cell_type": "code",
   "execution_count": 1,
   "metadata": {},
   "outputs": [],
   "source": [
    "import pandas as pd\n",
    "import geopandas as gpd\n",
    "import seaborn as sns\n",
    "import matplotlib.pyplot as plt\n",
    "import os\n",
    "from scipy.stats.stats import pearsonr"
   ]
  },
  {
   "cell_type": "markdown",
   "metadata": {},
   "source": [
    "## Load Data"
   ]
  },
  {
   "cell_type": "code",
   "execution_count": 2,
   "metadata": {},
   "outputs": [],
   "source": [
    "def prepare_data(df, column_name):\n",
    "    \"\"\"\n",
    "    Processes BP data. column_name is desired name for this data\n",
    "    \"\"\"\n",
    "    df = df.loc[~(df[\"country\"].isnull() | df[\"country\"].str.contains(\"Total\") | df[\"country\"].str.contains(\"OECD\"))]\n",
    "    df = df.set_index(\"country\")\n",
    "    df = df.stack().rename(column_name).reset_index().rename(columns={\"level_1\":\"year\"})\n",
    "    df = df.loc[df[\"year\"].astype(str).str.len() == 4]\n",
    "    df.loc[:, \"year\"] = pd.to_numeric(df.loc[:,\"year\"])\n",
    "    df.loc[:, column_name] = pd.to_numeric(df.loc[:,column_name])\n",
    "    return df"
   ]
  },
  {
   "cell_type": "code",
   "execution_count": 3,
   "metadata": {},
   "outputs": [],
   "source": [
    "BP_FILE = \"../../raw_data/usage/bp-stats-review-2019-all-data.xlsx\""
   ]
  },
  {
   "cell_type": "markdown",
   "metadata": {},
   "source": [
    "#### CO2"
   ]
  },
  {
   "cell_type": "markdown",
   "metadata": {},
   "source": [
    "Units: Million tonnes of CO2"
   ]
  },
  {
   "cell_type": "code",
   "execution_count": 4,
   "metadata": {},
   "outputs": [],
   "source": [
    "co2 = pd.read_excel(BP_FILE, \"Carbon Dioxide Emissions\", header=2)\n",
    "co2.rename(columns={\"Million tonnes of carbon dioxide\":\"country\"}, inplace=True)\n",
    "co2 = prepare_data(co2, \"co2\")"
   ]
  },
  {
   "cell_type": "markdown",
   "metadata": {},
   "source": [
    "#### Total Energy"
   ]
  },
  {
   "cell_type": "code",
   "execution_count": 5,
   "metadata": {},
   "outputs": [],
   "source": [
    "energy = pd.read_excel(BP_FILE, \"Primary Energy Consumption\", header=2)\n",
    "energy.rename(columns={\"Million tonnes oil equivalent\":\"country\"}, inplace=True)\n",
    "energy = prepare_data(energy, \"energy_consumption\")"
   ]
  },
  {
   "cell_type": "markdown",
   "metadata": {},
   "source": [
    "#### Total Renewables"
   ]
  },
  {
   "cell_type": "code",
   "execution_count": 6,
   "metadata": {},
   "outputs": [],
   "source": [
    "renew = pd.read_excel(BP_FILE, \"Renewables - Mtoe\", header=2)\n",
    "renew.rename(columns={\"Million tonnes oil equivalent\":\"country\"}, inplace=True)\n",
    "renew = prepare_data(renew, \"renewable_generation\")"
   ]
  },
  {
   "cell_type": "markdown",
   "metadata": {},
   "source": [
    "#### Solar"
   ]
  },
  {
   "cell_type": "code",
   "execution_count": 7,
   "metadata": {},
   "outputs": [],
   "source": [
    "solar = pd.read_excel(BP_FILE, \"Solar Generation - TWh\", header=2)\n",
    "solar.rename(columns={\"Terawatt-hours\":\"country\"}, inplace=True)\n",
    "solar = prepare_data(solar, \"solar_generation\")"
   ]
  },
  {
   "cell_type": "markdown",
   "metadata": {},
   "source": [
    "#### Wind"
   ]
  },
  {
   "cell_type": "code",
   "execution_count": 8,
   "metadata": {},
   "outputs": [],
   "source": [
    "wind = pd.read_excel(BP_FILE, \"Wind Generation - TWh \", header=2)\n",
    "wind.rename(columns={\"Terawatt-hours\":\"country\"}, inplace=True)\n",
    "wind = prepare_data(wind, \"wind_generation\")"
   ]
  },
  {
   "cell_type": "markdown",
   "metadata": {},
   "source": [
    "#### Hydroelectricity"
   ]
  },
  {
   "cell_type": "code",
   "execution_count": 9,
   "metadata": {},
   "outputs": [],
   "source": [
    "hydro = pd.read_excel(BP_FILE, \"Hydro Generation - TWh\", header=2)\n",
    "hydro.rename(columns={\"Terawatt-hours\":\"country\"}, inplace=True)\n",
    "hydro = prepare_data(hydro, \"hydro_generation\")"
   ]
  },
  {
   "cell_type": "markdown",
   "metadata": {},
   "source": [
    "#### Geothermal, biomass, other"
   ]
  },
  {
   "cell_type": "code",
   "execution_count": 10,
   "metadata": {},
   "outputs": [],
   "source": [
    "other = pd.read_excel(BP_FILE, \"Geo Biomass Other - TWh\", header=2)\n",
    "other.rename(columns={\"Terawatt-hours\":\"country\"}, inplace=True)\n",
    "other = prepare_data(other, \"geo_bio_other_generation\")"
   ]
  },
  {
   "cell_type": "markdown",
   "metadata": {},
   "source": [
    "### Combine"
   ]
  },
  {
   "cell_type": "code",
   "execution_count": 11,
   "metadata": {},
   "outputs": [],
   "source": [
    "df = (co2.merge(energy, on=[\"country\",\"year\"], how=\"left\")\n",
    "      .merge(renew, on=[\"country\", \"year\"], how=\"left\")\n",
    "      .merge(solar, on=[\"country\", \"year\"], how=\"left\")\n",
    "      .merge(wind, on=[\"country\", \"year\"], how=\"left\")\n",
    "      .merge(hydro, on=[\"country\", \"year\"], how=\"left\")\n",
    "      .merge(other, on=[\"country\", \"year\"], how=\"left\")\n",
    "     )"
   ]
  },
  {
   "cell_type": "markdown",
   "metadata": {},
   "source": [
    "#### Changes units from mtoe to TWh"
   ]
  },
  {
   "cell_type": "markdown",
   "metadata": {},
   "source": [
    "1 mtoe = 4.4 TWh "
   ]
  },
  {
   "cell_type": "code",
   "execution_count": 12,
   "metadata": {},
   "outputs": [],
   "source": [
    "df[\"energy_consumption\"] = df[\"energy_consumption\"] * 4.4\n",
    "df[\"renewable_generation\"] = df[\"renewable_generation\"] * 4.4"
   ]
  },
  {
   "cell_type": "markdown",
   "metadata": {},
   "source": [
    "total renewable energy in BP does not include hydroelectricity, so add hydro energy generated"
   ]
  },
  {
   "cell_type": "code",
   "execution_count": 13,
   "metadata": {},
   "outputs": [],
   "source": [
    "df[\"renewable_generation\"] = df[\"renewable_generation\"] + df['hydro_generation']"
   ]
  },
  {
   "cell_type": "markdown",
   "metadata": {},
   "source": [
    "computer ratio statistics"
   ]
  },
  {
   "cell_type": "code",
   "execution_count": 14,
   "metadata": {},
   "outputs": [],
   "source": [
    "df[\"renew_energy_ratio\"] = (df[\"renewable_generation\"]) / df[\"energy_consumption\"]\n",
    "df[\"emission_power_ratio\"] = df[\"co2\"]/df[\"energy_consumption\"]"
   ]
  },
  {
   "cell_type": "markdown",
   "metadata": {},
   "source": [
    "## Shape Data"
   ]
  },
  {
   "cell_type": "markdown",
   "metadata": {},
   "source": [
    "#### Clean country names"
   ]
  },
  {
   "cell_type": "code",
   "execution_count": 15,
   "metadata": {},
   "outputs": [],
   "source": [
    "df[\"country\"] = df[\"country\"].replace({\"US\": \"United States\", \"Iran\": \"Iran (Islamic Republic of)\",\n",
    "                                       \"South Korea\": \"Korea, Republic of\", \"China Hong Kong SAR\": \"Hong Kong\",\n",
    "                                       \"Trinidad & Tobago\": \"Trinidad and Tobago\", \"Vietnam\": \"Viet Nam\",\n",
    "                                       \"Russian Federation\": \"Russia\"\n",
    "                                      })"
   ]
  },
  {
   "cell_type": "markdown",
   "metadata": {},
   "source": [
    "#### Shape Files"
   ]
  },
  {
   "cell_type": "code",
   "execution_count": 16,
   "metadata": {},
   "outputs": [],
   "source": [
    "countries = gpd.read_file(\"../../raw_data/shape_files/TM_WORLD_BORDERS-0.3.shp\")"
   ]
  },
  {
   "cell_type": "code",
   "execution_count": 17,
   "metadata": {},
   "outputs": [],
   "source": [
    "regions = pd.read_csv(\"../../raw_data/regions.csv\")\n",
    "countries= countries.merge(regions, left_on=\"REGION\", right_on=\"code\", how=\"left\")\n",
    "countries[\"region\"].fillna(\"Other\", inplace=True)"
   ]
  },
  {
   "cell_type": "code",
   "execution_count": 18,
   "metadata": {},
   "outputs": [
    {
     "data": {
      "text/plain": [
       "Africa      57\n",
       "Americas    53\n",
       "Europe      51\n",
       "Asia        50\n",
       "Oceania     25\n",
       "Other       10\n",
       "Name: region, dtype: int64"
      ]
     },
     "execution_count": 18,
     "metadata": {},
     "output_type": "execute_result"
    }
   ],
   "source": [
    "countries[\"region\"].value_counts()"
   ]
  },
  {
   "cell_type": "code",
   "execution_count": 19,
   "metadata": {},
   "outputs": [],
   "source": [
    "countries.loc[:, [\"NAME\", \"region\"]].to_csv(\"../regions_mapping.csv\", index=False)"
   ]
  },
  {
   "cell_type": "code",
   "execution_count": 20,
   "metadata": {},
   "outputs": [
    {
     "data": {
      "text/plain": [
       "Other Northern Africa                54\n",
       "Western Africa                       54\n",
       "Other Asia Pacific                   54\n",
       "Other Middle East                    54\n",
       "Other Europe                         54\n",
       "Other South America                  54\n",
       "Other Caribbean                      54\n",
       "                 European Union #    54\n",
       "Other Southern Africa                54\n",
       "Eastern Africa                       54\n",
       "Middle Africa                        54\n",
       "Central America                      54\n",
       "Other CIS                            34\n",
       "North Macedonia                      29\n",
       "USSR                                 20\n",
       "Name: country, dtype: int64"
      ]
     },
     "execution_count": 20,
     "metadata": {},
     "output_type": "execute_result"
    }
   ],
   "source": [
    "df.loc[~df[\"country\"].isin(countries[\"NAME\"])][\"country\"].value_counts()"
   ]
  },
  {
   "cell_type": "code",
   "execution_count": 21,
   "metadata": {},
   "outputs": [],
   "source": [
    "df = countries.loc[:, [\"ISO3\", \"NAME\", \"AREA\", \"POP2005\", \"LON\", \"LAT\"]].merge(df, left_on=\"NAME\", right_on=\"country\", how=\"left\")"
   ]
  },
  {
   "cell_type": "code",
   "execution_count": 22,
   "metadata": {},
   "outputs": [
    {
     "data": {
      "text/html": [
       "<div>\n",
       "<style scoped>\n",
       "    .dataframe tbody tr th:only-of-type {\n",
       "        vertical-align: middle;\n",
       "    }\n",
       "\n",
       "    .dataframe tbody tr th {\n",
       "        vertical-align: top;\n",
       "    }\n",
       "\n",
       "    .dataframe thead th {\n",
       "        text-align: right;\n",
       "    }\n",
       "</style>\n",
       "<table border=\"1\" class=\"dataframe\">\n",
       "  <thead>\n",
       "    <tr style=\"text-align: right;\">\n",
       "      <th></th>\n",
       "      <th>ISO3</th>\n",
       "      <th>NAME</th>\n",
       "      <th>AREA</th>\n",
       "      <th>POP2005</th>\n",
       "      <th>LON</th>\n",
       "      <th>LAT</th>\n",
       "      <th>country</th>\n",
       "      <th>year</th>\n",
       "      <th>co2</th>\n",
       "      <th>energy_consumption</th>\n",
       "      <th>renewable_generation</th>\n",
       "      <th>solar_generation</th>\n",
       "      <th>wind_generation</th>\n",
       "      <th>hydro_generation</th>\n",
       "      <th>geo_bio_other_generation</th>\n",
       "      <th>renew_energy_ratio</th>\n",
       "      <th>emission_power_ratio</th>\n",
       "    </tr>\n",
       "  </thead>\n",
       "  <tbody>\n",
       "    <tr>\n",
       "      <td>0</td>\n",
       "      <td>ATG</td>\n",
       "      <td>Antigua and Barbuda</td>\n",
       "      <td>44</td>\n",
       "      <td>83039</td>\n",
       "      <td>-61.783</td>\n",
       "      <td>17.078</td>\n",
       "      <td>NaN</td>\n",
       "      <td>NaN</td>\n",
       "      <td>NaN</td>\n",
       "      <td>NaN</td>\n",
       "      <td>NaN</td>\n",
       "      <td>NaN</td>\n",
       "      <td>NaN</td>\n",
       "      <td>NaN</td>\n",
       "      <td>NaN</td>\n",
       "      <td>NaN</td>\n",
       "      <td>NaN</td>\n",
       "    </tr>\n",
       "    <tr>\n",
       "      <td>1</td>\n",
       "      <td>DZA</td>\n",
       "      <td>Algeria</td>\n",
       "      <td>238174</td>\n",
       "      <td>32854159</td>\n",
       "      <td>2.632</td>\n",
       "      <td>28.163</td>\n",
       "      <td>Algeria</td>\n",
       "      <td>1965.0</td>\n",
       "      <td>5.568753</td>\n",
       "      <td>9.339093</td>\n",
       "      <td>0.393327</td>\n",
       "      <td>0.0</td>\n",
       "      <td>0.0</td>\n",
       "      <td>0.393327</td>\n",
       "      <td>0.0</td>\n",
       "      <td>0.042116</td>\n",
       "      <td>0.596284</td>\n",
       "    </tr>\n",
       "    <tr>\n",
       "      <td>2</td>\n",
       "      <td>DZA</td>\n",
       "      <td>Algeria</td>\n",
       "      <td>238174</td>\n",
       "      <td>32854159</td>\n",
       "      <td>2.632</td>\n",
       "      <td>28.163</td>\n",
       "      <td>Algeria</td>\n",
       "      <td>1966.0</td>\n",
       "      <td>6.867506</td>\n",
       "      <td>11.250250</td>\n",
       "      <td>0.362391</td>\n",
       "      <td>0.0</td>\n",
       "      <td>0.0</td>\n",
       "      <td>0.362391</td>\n",
       "      <td>0.0</td>\n",
       "      <td>0.032212</td>\n",
       "      <td>0.610431</td>\n",
       "    </tr>\n",
       "    <tr>\n",
       "      <td>3</td>\n",
       "      <td>DZA</td>\n",
       "      <td>Algeria</td>\n",
       "      <td>238174</td>\n",
       "      <td>32854159</td>\n",
       "      <td>2.632</td>\n",
       "      <td>28.163</td>\n",
       "      <td>Algeria</td>\n",
       "      <td>1967.0</td>\n",
       "      <td>6.369307</td>\n",
       "      <td>10.633018</td>\n",
       "      <td>0.406585</td>\n",
       "      <td>0.0</td>\n",
       "      <td>0.0</td>\n",
       "      <td>0.406585</td>\n",
       "      <td>0.0</td>\n",
       "      <td>0.038238</td>\n",
       "      <td>0.599012</td>\n",
       "    </tr>\n",
       "    <tr>\n",
       "      <td>4</td>\n",
       "      <td>DZA</td>\n",
       "      <td>Algeria</td>\n",
       "      <td>238174</td>\n",
       "      <td>32854159</td>\n",
       "      <td>2.632</td>\n",
       "      <td>28.163</td>\n",
       "      <td>Algeria</td>\n",
       "      <td>1968.0</td>\n",
       "      <td>6.771137</td>\n",
       "      <td>11.405035</td>\n",
       "      <td>0.556844</td>\n",
       "      <td>0.0</td>\n",
       "      <td>0.0</td>\n",
       "      <td>0.556844</td>\n",
       "      <td>0.0</td>\n",
       "      <td>0.048824</td>\n",
       "      <td>0.593697</td>\n",
       "    </tr>\n",
       "  </tbody>\n",
       "</table>\n",
       "</div>"
      ],
      "text/plain": [
       "  ISO3                 NAME    AREA   POP2005     LON     LAT  country  \\\n",
       "0  ATG  Antigua and Barbuda      44     83039 -61.783  17.078      NaN   \n",
       "1  DZA              Algeria  238174  32854159   2.632  28.163  Algeria   \n",
       "2  DZA              Algeria  238174  32854159   2.632  28.163  Algeria   \n",
       "3  DZA              Algeria  238174  32854159   2.632  28.163  Algeria   \n",
       "4  DZA              Algeria  238174  32854159   2.632  28.163  Algeria   \n",
       "\n",
       "     year       co2  energy_consumption  renewable_generation  \\\n",
       "0     NaN       NaN                 NaN                   NaN   \n",
       "1  1965.0  5.568753            9.339093              0.393327   \n",
       "2  1966.0  6.867506           11.250250              0.362391   \n",
       "3  1967.0  6.369307           10.633018              0.406585   \n",
       "4  1968.0  6.771137           11.405035              0.556844   \n",
       "\n",
       "   solar_generation  wind_generation  hydro_generation  \\\n",
       "0               NaN              NaN               NaN   \n",
       "1               0.0              0.0          0.393327   \n",
       "2               0.0              0.0          0.362391   \n",
       "3               0.0              0.0          0.406585   \n",
       "4               0.0              0.0          0.556844   \n",
       "\n",
       "   geo_bio_other_generation  renew_energy_ratio  emission_power_ratio  \n",
       "0                       NaN                 NaN                   NaN  \n",
       "1                       0.0            0.042116              0.596284  \n",
       "2                       0.0            0.032212              0.610431  \n",
       "3                       0.0            0.038238              0.599012  \n",
       "4                       0.0            0.048824              0.593697  "
      ]
     },
     "execution_count": 22,
     "metadata": {},
     "output_type": "execute_result"
    }
   ],
   "source": [
    "df.head()"
   ]
  },
  {
   "cell_type": "code",
   "execution_count": 23,
   "metadata": {
    "scrolled": false
   },
   "outputs": [],
   "source": [
    "df.to_csv(\"../usage/processed.csv\", index=False)"
   ]
  },
  {
   "cell_type": "markdown",
   "metadata": {},
   "source": [
    "### Interactive datasets"
   ]
  },
  {
   "cell_type": "markdown",
   "metadata": {},
   "source": [
    "Generate 2018 dataset for top countries ranked by renewable energy generated for easy use in d3"
   ]
  },
  {
   "cell_type": "code",
   "execution_count": 30,
   "metadata": {},
   "outputs": [],
   "source": [
    "(df.pivot(index=\"year\", columns=\"NAME\", values=[\"renew_energy_ratio\"])\n",
    "              .iloc[-1].dropna().sort_values(ascending=False).to_frame().droplevel(0).T\n",
    "    .to_csv(\"../usage/top_countries.csv\", index=False))"
   ]
  },
  {
   "cell_type": "code",
   "execution_count": null,
   "metadata": {},
   "outputs": [],
   "source": []
  }
 ],
 "metadata": {
  "kernelspec": {
   "display_name": "Python 3",
   "language": "python",
   "name": "python3"
  },
  "language_info": {
   "codemirror_mode": {
    "name": "ipython",
    "version": 3
   },
   "file_extension": ".py",
   "mimetype": "text/x-python",
   "name": "python",
   "nbconvert_exporter": "python",
   "pygments_lexer": "ipython3",
   "version": "3.6.9"
  }
 },
 "nbformat": 4,
 "nbformat_minor": 2
}
