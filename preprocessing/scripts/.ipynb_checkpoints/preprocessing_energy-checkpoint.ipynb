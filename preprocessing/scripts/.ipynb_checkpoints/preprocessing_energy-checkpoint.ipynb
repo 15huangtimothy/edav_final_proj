{
 "cells": [
  {
   "cell_type": "markdown",
   "metadata": {},
   "source": [
    "# Energy Data PreProcessing"
   ]
  },
  {
   "cell_type": "code",
   "execution_count": 36,
   "metadata": {},
   "outputs": [],
   "source": [
    "import pandas as pd\n",
    "import geopandas as gpd\n",
    "import seaborn as sns\n",
    "import matplotlib.pyplot as plt\n",
    "import os\n",
    "from scipy.stats.stats import pearsonr"
   ]
  },
  {
   "cell_type": "markdown",
   "metadata": {},
   "source": [
    "## Load Data"
   ]
  },
  {
   "cell_type": "code",
   "execution_count": 37,
   "metadata": {},
   "outputs": [],
   "source": [
    "def prepare_data(df, column_name):\n",
    "    \"\"\"\n",
    "    Processes BP data. column_name is desired name for this data\n",
    "    \"\"\"\n",
    "    df = df.loc[~(df[\"country\"].isnull() | df[\"country\"].str.contains(\"Total\") | df[\"country\"].str.contains(\"OECD\"))]\n",
    "    df = df.set_index(\"country\")\n",
    "    df = df.stack().rename(column_name).reset_index().rename(columns={\"level_1\":\"year\"})\n",
    "    df = df.loc[df[\"year\"].astype(str).str.len() == 4]\n",
    "    df.loc[:, \"year\"] = pd.to_numeric(df.loc[:,\"year\"])\n",
    "    df.loc[:, column_name] = pd.to_numeric(df.loc[:,column_name])\n",
    "    return df"
   ]
  },
  {
   "cell_type": "markdown",
   "metadata": {},
   "source": [
    "#### CO2"
   ]
  },
  {
   "cell_type": "markdown",
   "metadata": {},
   "source": [
    "Units: Million tonnes of CO2"
   ]
  },
  {
   "cell_type": "code",
   "execution_count": 38,
   "metadata": {},
   "outputs": [],
   "source": [
    "co2 = pd.read_excel(\"../../data/usage/bp-stats-review-2019-all-data.xlsx\", \"Carbon Dioxide Emissions\", header=2)\n",
    "co2.rename(columns={\"Million tonnes of carbon dioxide\":\"country\"}, inplace=True)\n",
    "co2 = prepare_data(co2, \"co2\")"
   ]
  },
  {
   "cell_type": "markdown",
   "metadata": {},
   "source": [
    "#### Total Energy"
   ]
  },
  {
   "cell_type": "markdown",
   "metadata": {},
   "source": [
    "Units: Mtoe (million tonnes oil equivalent)"
   ]
  },
  {
   "cell_type": "code",
   "execution_count": 39,
   "metadata": {},
   "outputs": [],
   "source": [
    "energy = pd.read_excel(\"../../data/usage/bp-stats-review-2019-all-data.xlsx\", \"Primary Energy Consumption\", header=2)\n",
    "energy.rename(columns={\"Million tonnes oil equivalent\":\"country\"}, inplace=True)\n",
    "energy = prepare_data(energy, \"energy_consumption\")"
   ]
  },
  {
   "cell_type": "markdown",
   "metadata": {},
   "source": [
    "#### Total Renewables"
   ]
  },
  {
   "cell_type": "markdown",
   "metadata": {},
   "source": [
    "Units: Mtoe"
   ]
  },
  {
   "cell_type": "code",
   "execution_count": 40,
   "metadata": {},
   "outputs": [],
   "source": [
    "renew = pd.read_excel(\"../../data/usage/bp-stats-review-2019-all-data.xlsx\", \"Renewables - Mtoe\", header=2)\n",
    "renew.rename(columns={\"Million tonnes oil equivalent\":\"country\"}, inplace=True)\n",
    "renew = prepare_data(renew, \"renewable_generation\")"
   ]
  },
  {
   "cell_type": "markdown",
   "metadata": {},
   "source": [
    "#### Solar"
   ]
  },
  {
   "cell_type": "markdown",
   "metadata": {},
   "source": [
    "Units: TWh"
   ]
  },
  {
   "cell_type": "code",
   "execution_count": 41,
   "metadata": {},
   "outputs": [],
   "source": [
    "solar = pd.read_excel(\"../../data/usage/bp-stats-review-2019-all-data.xlsx\", \"Solar Generation - TWh\", header=2)\n",
    "solar.rename(columns={\"Terawatt-hours\":\"country\"}, inplace=True)\n",
    "solar = prepare_data(solar, \"solar_generation\")"
   ]
  },
  {
   "cell_type": "markdown",
   "metadata": {},
   "source": [
    "#### Wind"
   ]
  },
  {
   "cell_type": "markdown",
   "metadata": {},
   "source": [
    "Units: TWh"
   ]
  },
  {
   "cell_type": "code",
   "execution_count": 42,
   "metadata": {},
   "outputs": [],
   "source": [
    "wind = pd.read_excel(\"../../data/usage/bp-stats-review-2019-all-data.xlsx\", \"Wind Generation - TWh \", header=2)\n",
    "wind.rename(columns={\"Terawatt-hours\":\"country\"}, inplace=True)\n",
    "wind = prepare_data(wind, \"wind_generation\")"
   ]
  },
  {
   "cell_type": "markdown",
   "metadata": {},
   "source": [
    "#### Hydroelectricity"
   ]
  },
  {
   "cell_type": "markdown",
   "metadata": {},
   "source": [
    "Units: TWh"
   ]
  },
  {
   "cell_type": "code",
   "execution_count": 43,
   "metadata": {},
   "outputs": [],
   "source": [
    "hydro = pd.read_excel(\"../../data/usage/bp-stats-review-2019-all-data.xlsx\", \"Hydro Generation - TWh\", header=2)\n",
    "hydro.rename(columns={\"Terawatt-hours\":\"country\"}, inplace=True)\n",
    "hydro = prepare_data(hydro, \"hydro_generation\")"
   ]
  },
  {
   "cell_type": "markdown",
   "metadata": {},
   "source": [
    "#### Geothermal, biomass, other"
   ]
  },
  {
   "cell_type": "markdown",
   "metadata": {},
   "source": [
    "Units: TWh"
   ]
  },
  {
   "cell_type": "code",
   "execution_count": 44,
   "metadata": {},
   "outputs": [],
   "source": [
    "other = pd.read_excel(\"../../data/usage/bp-stats-review-2019-all-data.xlsx\", \"Geo Biomass Other - TWh\", header=2)\n",
    "other.rename(columns={\"Terawatt-hours\":\"country\"}, inplace=True)\n",
    "other = prepare_data(other, \"geo_bio_other_generation\")"
   ]
  },
  {
   "cell_type": "markdown",
   "metadata": {},
   "source": [
    "## Combine"
   ]
  },
  {
   "cell_type": "markdown",
   "metadata": {},
   "source": [
    "1 mtoe = 4.4 TWh "
   ]
  },
  {
   "cell_type": "code",
   "execution_count": 61,
   "metadata": {},
   "outputs": [],
   "source": [
    "df = (co2.merge(energy, on=[\"country\",\"year\"], how=\"left\")\n",
    "      .merge(renew, on=[\"country\", \"year\"], how=\"left\")\n",
    "      .merge(solar, on=[\"country\", \"year\"], how=\"left\")\n",
    "      .merge(wind, on=[\"country\", \"year\"], how=\"left\")\n",
    "      .merge(hydro, on=[\"country\", \"year\"], how=\"left\")\n",
    "      .merge(other, on=[\"country\", \"year\"], how=\"left\")\n",
    "     )"
   ]
  },
  {
   "cell_type": "code",
   "execution_count": 62,
   "metadata": {},
   "outputs": [
    {
     "data": {
      "text/html": [
       "<div>\n",
       "<style scoped>\n",
       "    .dataframe tbody tr th:only-of-type {\n",
       "        vertical-align: middle;\n",
       "    }\n",
       "\n",
       "    .dataframe tbody tr th {\n",
       "        vertical-align: top;\n",
       "    }\n",
       "\n",
       "    .dataframe thead th {\n",
       "        text-align: right;\n",
       "    }\n",
       "</style>\n",
       "<table border=\"1\" class=\"dataframe\">\n",
       "  <thead>\n",
       "    <tr style=\"text-align: right;\">\n",
       "      <th></th>\n",
       "      <th>country</th>\n",
       "      <th>year</th>\n",
       "      <th>co2</th>\n",
       "      <th>energy_consumption</th>\n",
       "      <th>renewable_generation</th>\n",
       "      <th>solar_generation</th>\n",
       "      <th>wind_generation</th>\n",
       "      <th>hydro_generation</th>\n",
       "      <th>geo_bio_other_generation</th>\n",
       "    </tr>\n",
       "  </thead>\n",
       "  <tbody>\n",
       "    <tr>\n",
       "      <td>0</td>\n",
       "      <td>Canada</td>\n",
       "      <td>1965</td>\n",
       "      <td>259.855545</td>\n",
       "      <td>115.910849</td>\n",
       "      <td>0.0</td>\n",
       "      <td>0.0</td>\n",
       "      <td>0.0</td>\n",
       "      <td>117.122939</td>\n",
       "      <td>0.0</td>\n",
       "    </tr>\n",
       "    <tr>\n",
       "      <td>1</td>\n",
       "      <td>Canada</td>\n",
       "      <td>1966</td>\n",
       "      <td>271.067865</td>\n",
       "      <td>122.991657</td>\n",
       "      <td>0.0</td>\n",
       "      <td>0.0</td>\n",
       "      <td>0.0</td>\n",
       "      <td>128.821091</td>\n",
       "      <td>0.0</td>\n",
       "    </tr>\n",
       "    <tr>\n",
       "      <td>2</td>\n",
       "      <td>Canada</td>\n",
       "      <td>1967</td>\n",
       "      <td>284.905440</td>\n",
       "      <td>129.026541</td>\n",
       "      <td>0.0</td>\n",
       "      <td>0.0</td>\n",
       "      <td>0.0</td>\n",
       "      <td>133.125586</td>\n",
       "      <td>0.0</td>\n",
       "    </tr>\n",
       "    <tr>\n",
       "      <td>3</td>\n",
       "      <td>Canada</td>\n",
       "      <td>1968</td>\n",
       "      <td>307.276993</td>\n",
       "      <td>137.695457</td>\n",
       "      <td>0.0</td>\n",
       "      <td>0.0</td>\n",
       "      <td>0.0</td>\n",
       "      <td>136.320812</td>\n",
       "      <td>0.0</td>\n",
       "    </tr>\n",
       "    <tr>\n",
       "      <td>4</td>\n",
       "      <td>Canada</td>\n",
       "      <td>1969</td>\n",
       "      <td>319.226620</td>\n",
       "      <td>145.303023</td>\n",
       "      <td>0.0</td>\n",
       "      <td>0.0</td>\n",
       "      <td>0.0</td>\n",
       "      <td>148.226676</td>\n",
       "      <td>0.0</td>\n",
       "    </tr>\n",
       "  </tbody>\n",
       "</table>\n",
       "</div>"
      ],
      "text/plain": [
       "  country  year         co2  energy_consumption  renewable_generation  \\\n",
       "0  Canada  1965  259.855545          115.910849                   0.0   \n",
       "1  Canada  1966  271.067865          122.991657                   0.0   \n",
       "2  Canada  1967  284.905440          129.026541                   0.0   \n",
       "3  Canada  1968  307.276993          137.695457                   0.0   \n",
       "4  Canada  1969  319.226620          145.303023                   0.0   \n",
       "\n",
       "   solar_generation  wind_generation  hydro_generation  \\\n",
       "0               0.0              0.0        117.122939   \n",
       "1               0.0              0.0        128.821091   \n",
       "2               0.0              0.0        133.125586   \n",
       "3               0.0              0.0        136.320812   \n",
       "4               0.0              0.0        148.226676   \n",
       "\n",
       "   geo_bio_other_generation  \n",
       "0                       0.0  \n",
       "1                       0.0  \n",
       "2                       0.0  \n",
       "3                       0.0  \n",
       "4                       0.0  "
      ]
     },
     "execution_count": 62,
     "metadata": {},
     "output_type": "execute_result"
    }
   ],
   "source": [
    "df.head()"
   ]
  }
 ],
 "metadata": {
  "kernelspec": {
   "display_name": "Python 3",
   "language": "python",
   "name": "python3"
  },
  "language_info": {
   "codemirror_mode": {
    "name": "ipython",
    "version": 3
   },
   "file_extension": ".py",
   "mimetype": "text/x-python",
   "name": "python",
   "nbconvert_exporter": "python",
   "pygments_lexer": "ipython3",
   "version": "3.7.3"
  }
 },
 "nbformat": 4,
 "nbformat_minor": 2
}
