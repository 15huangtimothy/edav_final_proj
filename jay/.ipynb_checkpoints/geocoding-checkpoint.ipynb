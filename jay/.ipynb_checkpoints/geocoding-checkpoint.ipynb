{
 "cells": [
  {
   "cell_type": "code",
   "execution_count": 1,
   "metadata": {},
   "outputs": [],
   "source": [
    "import pandas as pd\n",
    "import numpy as np\n",
    "import geopandas as gpd\n",
    "from geopy.extra.rate_limiter import RateLimiter\n",
    "from geopy.geocoders import Nominatim\n",
    "\n",
    "data = pd.read_csv(\"./temp.csv\")"
   ]
  },
  {
   "cell_type": "code",
   "execution_count": 2,
   "metadata": {},
   "outputs": [
    {
     "name": "stdout",
     "output_type": "stream",
     "text": [
      "(4.5693754, 102.2656823)\n"
     ]
    }
   ],
   "source": [
    "geolocator = Nominatim(user_agent=\"myGeocoder\")\n",
    "location = geolocator.geocode(\"Malaysia\")\n",
    "print((location.latitude, location.longitude))"
   ]
  },
  {
   "cell_type": "code",
   "execution_count": 2,
   "metadata": {},
   "outputs": [],
   "source": [
    "# Open shape file\n",
    "countries = gpd.read_file(\"data/shape_files/TM_WORLD_BORDERS-0.3.shp\")\n",
    "# Rename country for matching\n",
    "data[\"country\"] = data[\"country\"].replace({\"US\": \"United States\", \"Iran\": \"Iran (Islamic Republic of)\",\n",
    "                                       \"South Korea\": \"Korea, Republic of\", \"China Hong Kong SAR\": \"Hong Kong\",\n",
    "                                       \"Trinidad & Tobago\": \"Trinidad and Tobago\", \"Vietnam\": \"Viet Nam\",\n",
    "                                       \"Russian Federation\": \"Russia\"})\n",
    "# Match with shape file\n",
    "data_new = data.merge(countries, left_on=\"country\", right_on=\"NAME\")"
   ]
  },
  {
   "cell_type": "code",
   "execution_count": 3,
   "metadata": {},
   "outputs": [],
   "source": [
    "data_new = data_new[['country', 'emissions', 'renewables', 'LON', 'LAT']]"
   ]
  },
  {
   "cell_type": "code",
   "execution_count": 4,
   "metadata": {},
   "outputs": [
    {
     "data": {
      "text/html": [
       "<div>\n",
       "<style scoped>\n",
       "    .dataframe tbody tr th:only-of-type {\n",
       "        vertical-align: middle;\n",
       "    }\n",
       "\n",
       "    .dataframe tbody tr th {\n",
       "        vertical-align: top;\n",
       "    }\n",
       "\n",
       "    .dataframe thead th {\n",
       "        text-align: right;\n",
       "    }\n",
       "</style>\n",
       "<table border=\"1\" class=\"dataframe\">\n",
       "  <thead>\n",
       "    <tr style=\"text-align: right;\">\n",
       "      <th></th>\n",
       "      <th>country</th>\n",
       "      <th>emissions</th>\n",
       "      <th>renewables</th>\n",
       "      <th>LON</th>\n",
       "      <th>LAT</th>\n",
       "    </tr>\n",
       "  </thead>\n",
       "  <tbody>\n",
       "    <tr>\n",
       "      <td>0</td>\n",
       "      <td>Canada</td>\n",
       "      <td>550.294100</td>\n",
       "      <td>45.304938</td>\n",
       "      <td>-109.433</td>\n",
       "      <td>59.081</td>\n",
       "    </tr>\n",
       "    <tr>\n",
       "      <td>1</td>\n",
       "      <td>Trinidad and Tobago</td>\n",
       "      <td>20.717074</td>\n",
       "      <td>0.003989</td>\n",
       "      <td>-61.253</td>\n",
       "      <td>10.468</td>\n",
       "    </tr>\n",
       "    <tr>\n",
       "      <td>2</td>\n",
       "      <td>Venezuela</td>\n",
       "      <td>123.709744</td>\n",
       "      <td>0.010008</td>\n",
       "      <td>-66.166</td>\n",
       "      <td>7.125</td>\n",
       "    </tr>\n",
       "    <tr>\n",
       "      <td>3</td>\n",
       "      <td>Austria</td>\n",
       "      <td>61.201093</td>\n",
       "      <td>12.241908</td>\n",
       "      <td>14.912</td>\n",
       "      <td>47.683</td>\n",
       "    </tr>\n",
       "    <tr>\n",
       "      <td>4</td>\n",
       "      <td>Belgium</td>\n",
       "      <td>129.590742</td>\n",
       "      <td>16.867842</td>\n",
       "      <td>4.664</td>\n",
       "      <td>50.643</td>\n",
       "    </tr>\n",
       "  </tbody>\n",
       "</table>\n",
       "</div>"
      ],
      "text/plain": [
       "               country   emissions  renewables      LON     LAT\n",
       "0               Canada  550.294100   45.304938 -109.433  59.081\n",
       "1  Trinidad and Tobago   20.717074    0.003989  -61.253  10.468\n",
       "2            Venezuela  123.709744    0.010008  -66.166   7.125\n",
       "3              Austria   61.201093   12.241908   14.912  47.683\n",
       "4              Belgium  129.590742   16.867842    4.664  50.643"
      ]
     },
     "execution_count": 4,
     "metadata": {},
     "output_type": "execute_result"
    }
   ],
   "source": [
    "data_new.head()"
   ]
  },
  {
   "cell_type": "code",
   "execution_count": 5,
   "metadata": {},
   "outputs": [],
   "source": [
    "data_new.to_csv(\"./data/carbon_world_geocoding.csv\", index=False)"
   ]
  },
  {
   "cell_type": "code",
   "execution_count": null,
   "metadata": {},
   "outputs": [],
   "source": [
    "# Convert Shape file to match BP dataset\n",
    ".replace({\"United States\":\"US\", \"Iran (Islamic Republic of)\": \"Iran\",\n",
    "    \"Korea, Republic of\":\"South Korea\", \"Hong Kong\":\"China Hong Kong SAR\",\n",
    "    \"Trinidad and Tobago\":\"Trinidad & Tobago\", \"Viet Nam\":\"Vietnam\",\n",
    "    \"Russia\":\"Russian Federation\"})"
   ]
  }
 ],
 "metadata": {
  "kernelspec": {
   "display_name": "Python 3",
   "language": "python",
   "name": "python3"
  },
  "language_info": {
   "codemirror_mode": {
    "name": "ipython",
    "version": 3
   },
   "file_extension": ".py",
   "mimetype": "text/x-python",
   "name": "python",
   "nbconvert_exporter": "python",
   "pygments_lexer": "ipython3",
   "version": "3.6.5"
  }
 },
 "nbformat": 4,
 "nbformat_minor": 2
}
